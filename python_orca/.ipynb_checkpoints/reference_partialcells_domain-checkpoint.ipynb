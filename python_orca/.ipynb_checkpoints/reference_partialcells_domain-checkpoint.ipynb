{
 "cells": [
  {
   "cell_type": "code",
   "execution_count": 9,
   "id": "5d9e5d38",
   "metadata": {},
   "outputs": [],
   "source": [
    "import numpy as np\n",
    "import netCDF4 as nc4\n",
    "import xarray as xr"
   ]
  },
  {
   "cell_type": "code",
   "execution_count": 10,
   "id": "2f24fac6",
   "metadata": {},
   "outputs": [],
   "source": [
    "pmm = \"netcdf_files/eORCA1.4.2_ModifStraits_domain_cfg.nc\"\n",
    "\n",
    "mm = nc4.Dataset(pmm)\n",
    "\n",
    "glamt = mm.variables['glamt'][0] ; e1t = mm.variables['e1t'][0]\n",
    "gphit = mm.variables['gphit'][0] ; e2t = mm.variables['e2t'][0] \n",
    "# U-V facets\n",
    "e3t_1d = mm.variables['e3t_1d'][0] ; e3t_0 = mm.variables['e3t_0'][0] ; e3u_0 = mm.variables['e3u_0'][0]; e3v_0 = mm.variables['e3v_0'][0]\n",
    "# partial cells\n",
    "e3w_0 = mm.variables['e3w_0'][0] ; e3uw_0 = mm.variables['e3uw_0'][0] ; e3vw_0 = mm.variables['e3vw_0'][0]\n",
    "e3w_1d = mm.variables['e3w_1d'][0]\n",
    "#\n",
    "totl = mm.variables['top_level'][0]  # \n",
    "botl = mm.variables['bottom_level'][0]  # goes from 0 to 74 (75 levels)\n",
    "bath = mm.variables['bathy_meter'][0]   # \n",
    "nK,nJ,nI = np.shape(e3w_0)\n",
    "mm.close()\n",
    "\n",
    "e3tp = np.copy(e3t_0)"
   ]
  },
  {
   "cell_type": "markdown",
   "id": "180f88e9",
   "metadata": {},
   "source": [
    "---\n",
    "### e3u=moy(e3t)"
   ]
  },
  {
   "cell_type": "code",
   "execution_count": 15,
   "id": "72d1ecd4",
   "metadata": {},
   "outputs": [],
   "source": [
    "\"\"\" 4.1) e3u,v moyenne\n",
    "\"\"\"\n",
    "e3up = np.copy(e3u_0) ; \n",
    "for j in range(1,nJ):\n",
    "    for i in range(0,nI-1):\n",
    "        if totl[j,i+1]+totl[j,i] !=2 : continue\n",
    "        e3up[:,j,i] = 0.5 * ( e3tp[:,j  ,i+1] + e3tp[:,j,i] ) # moyenne i\n",
    "        \n",
    "i = nI-1 # east indian ocean\n",
    "for j in range(nJ):\n",
    "    if totl[j,0]+totl[j,i] !=2 : continue\n",
    "    e3up[:,j,i] = 0.5 * ( e3tp[:,j,0] + e3tp[:,j,i] )\n",
    "    \n",
    "e3vp = np.copy(e3v_0)\n",
    "for j in range(0,nJ-1):\n",
    "    for i in range(0,nI):\n",
    "        if totl[j+1,i]+totl[j,i] !=2 : continue\n",
    "        e3vp[:,j,i] = 0.5 * ( e3tp[:,j+1,i  ] + e3tp[:,j,i] ) # moyenne j\n",
    "\n",
    "j = nJ-1 # Arctique # jj = 0 Antartique\n",
    "#slice at cell 180(NEMO)->179(netcdf,python) on a U face (Canada)\n",
    "for i in range(nI):\n",
    "    c4 = (j,180-(i-179))  #   | 4  |   \n",
    "    c1 = (j,i          )  #   --+--|   \n",
    "    #                     #   | 1  | \n",
    "    if totl[c4[0],c4[1]]+totl[c1[0],c1[1]] !=2 : continue\n",
    "    e3vp[:,j,i] = 0.5 * ( e3tp[:,c4[0],c4[1]] \\\n",
    "                        + e3tp[:,c1[0],c1[1]] )\n",
    "flagU=\"e3u moyenne\"\n",
    "psave = \"penalised_domain/eORCA1.4.2_ModifStraits_domain_cfg_ref_pcmoy.nc\""
   ]
  },
  {
   "cell_type": "markdown",
   "id": "5ab717bc",
   "metadata": {},
   "source": [
    "---\n",
    "### e3u = min(e3t)"
   ]
  },
  {
   "cell_type": "code",
   "execution_count": 16,
   "id": "1f7e2a73",
   "metadata": {},
   "outputs": [],
   "source": [
    "\"\"\" 4.2) e3u,v minimum\n",
    "\"\"\"\n",
    "e3up = np.copy(e3u_0) ; \n",
    "for j in range(1,nJ):\n",
    "    for i in range(0,nI-1):\n",
    "        if totl[j,i+1]+totl[j,i] !=2 : continue\n",
    "        e3up[:,j,i] = np.min([e3tp[:,j,i+1],e3tp[:,j,i]],axis=0) # min i\n",
    "        \n",
    "i = nI-1 # east indian ocean\n",
    "for j in range(nJ):\n",
    "    if totl[j,0]+totl[j,i] !=2 : continue\n",
    "    e3up[:,j,i] = np.min([e3tp[:,j,0],e3tp[:,j,i]],axis=0) \n",
    "    \n",
    "e3vp = np.copy(e3v_0)\n",
    "for j in range(0,nJ-1):\n",
    "    for i in range(0,nI):\n",
    "        if totl[j+1,i]+totl[j,i] !=2 : continue\n",
    "        e3vp[:,j,i] = np.min([e3tp[:,j+1,i],e3tp[:,j,i]],axis=0) # min j\n",
    "\n",
    "j = nJ-1 # Arctique # jj = 0 Antartique\n",
    "#slice at cell 180(NEMO)->179(netcdf,python) on a U face (Canada)\n",
    "for i in range(nI):\n",
    "    c4 = (j,180-(i-179))  #   | 4  |   \n",
    "    c1 = (j,i          )  #   --+--|   \n",
    "    #                     #   | 1  | \n",
    "    if totl[c4[0],c4[1]]+totl[c1[0],c1[1]] !=2 : continue\n",
    "    e3vp[:,j,i] = np.min([e3tp[:,c4[0],c4[1]],\n",
    "                          e3tp[:,c1[0],c1[1]]],axis=0)\n",
    "flagU=\"e3u minimum\"\n",
    "psave = \"penalised_domain/eORCA1.4.2_ModifStraits_domain_cfg_ref_pcmin.nc\""
   ]
  },
  {
   "cell_type": "code",
   "execution_count": 21,
   "id": "b90142a5",
   "metadata": {},
   "outputs": [],
   "source": [
    "#c,b,a = np.where(e3u_0!=e3up)\n",
    "# seul incoherence"
   ]
  },
  {
   "cell_type": "code",
   "execution_count": 39,
   "id": "8cc456ab",
   "metadata": {},
   "outputs": [
    {
     "data": {
      "text/plain": [
       "array([184.58118519, 187.48256749, 184.27702453, 184.27702453])"
      ]
     },
     "execution_count": 39,
     "metadata": {},
     "output_type": "execute_result"
    }
   ],
   "source": [
    "0.5 * ( e3tp[c,b,0] + e3tp[c,b,a] )"
   ]
  },
  {
   "cell_type": "code",
   "execution_count": 42,
   "id": "1e591890",
   "metadata": {},
   "outputs": [
    {
     "data": {
      "text/plain": [
       "array([184.58118519, 187.48256749, 181.27702453, 181.27702453])"
      ]
     },
     "execution_count": 42,
     "metadata": {},
     "output_type": "execute_result"
    }
   ],
   "source": [
    "e3tp[c,b,0]"
   ]
  },
  {
   "cell_type": "code",
   "execution_count": 43,
   "id": "713b4a9f",
   "metadata": {},
   "outputs": [
    {
     "data": {
      "text/plain": [
       "array([184.58118519, 187.48256749, 187.27702453, 187.27702453])"
      ]
     },
     "execution_count": 43,
     "metadata": {},
     "output_type": "execute_result"
    }
   ],
   "source": [
    " e3tp[c,b,a] "
   ]
  },
  {
   "cell_type": "code",
   "execution_count": 40,
   "id": "f1e00ccf",
   "metadata": {},
   "outputs": [
    {
     "data": {
      "text/plain": [
       "masked_array(data=[178.34077721, 178.34077721, 187.27702453, 187.27702453],\n",
       "             mask=False,\n",
       "       fill_value=1e+20)"
      ]
     },
     "execution_count": 40,
     "metadata": {},
     "output_type": "execute_result"
    }
   ],
   "source": [
    "e3u_0[c,b,a]"
   ]
  },
  {
   "cell_type": "code",
   "execution_count": 41,
   "id": "bf3d6358",
   "metadata": {},
   "outputs": [
    {
     "data": {
      "text/plain": [
       "array([184.58118519, 187.48256749, 181.27702453, 181.27702453])"
      ]
     },
     "execution_count": 41,
     "metadata": {},
     "output_type": "execute_result"
    }
   ],
   "source": [
    "e3up[c,b,a]"
   ]
  },
  {
   "cell_type": "markdown",
   "id": "c893153b",
   "metadata": {},
   "source": [
    "---\n",
    "### Write"
   ]
  },
  {
   "cell_type": "code",
   "execution_count": 14,
   "id": "b342bf36",
   "metadata": {},
   "outputs": [
    {
     "name": "stdout",
     "output_type": "stream",
     "text": [
      "written : penalised_domain/eORCA1.4.2_ModifStraits_domain_cfg_ref_pcmin.nc\n",
      "e3u minimum\n"
     ]
    }
   ],
   "source": [
    "\"\"\" 5) write\n",
    "\"\"\"\n",
    "#psave = \"penalised_domain/test.nc\"\n",
    "#psave = \"penalised_domain/eORCA1.4.2_ModifStraits_domain_cfg_ref_smoothed.nc\"\n",
    "\n",
    "ds=xr.open_dataset(pmm)\n",
    "\n",
    "ds.e3u_0[0]=e3up\n",
    "ds.e3v_0[0]=e3vp\n",
    "\n",
    "ds.to_netcdf(psave) # rewrite to netcd\n",
    "ds.close()\n",
    "print(\"written : %s\" % (psave))\n",
    "print(flagU)"
   ]
  },
  {
   "cell_type": "code",
   "execution_count": null,
   "id": "a14de905",
   "metadata": {},
   "outputs": [],
   "source": []
  }
 ],
 "metadata": {
  "kernelspec": {
   "display_name": "Python 3",
   "language": "python",
   "name": "python3"
  },
  "language_info": {
   "codemirror_mode": {
    "name": "ipython",
    "version": 3
   },
   "file_extension": ".py",
   "mimetype": "text/x-python",
   "name": "python",
   "nbconvert_exporter": "python",
   "pygments_lexer": "ipython3",
   "version": "3.8.8"
  }
 },
 "nbformat": 4,
 "nbformat_minor": 5
}
