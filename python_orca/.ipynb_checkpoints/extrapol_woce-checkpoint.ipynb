{
 "cells": [
  {
   "cell_type": "code",
   "execution_count": 1,
   "id": "fc61a4a9",
   "metadata": {},
   "outputs": [],
   "source": [
    "import numpy as np\n",
    "import matplotlib as mpl\n",
    "import matplotlib.pyplot as plt\n",
    "from matplotlib.ticker import AutoMinorLocator\n",
    "import netCDF4 as nc4\n",
    "\n",
    "import xarray as xr"
   ]
  },
  {
   "cell_type": "markdown",
   "id": "9e7c6d17",
   "metadata": {},
   "source": [
    "--- \n",
    "# Init salinity"
   ]
  },
  {
   "cell_type": "code",
   "execution_count": 6,
   "id": "fec20c48",
   "metadata": {},
   "outputs": [],
   "source": [
    "dirwork = \"/gpfswork/rech/omr/ukd13rj/AWOCE_INIT/\"\n",
    "pinit = \"woce_salt_monthly_init_4p2.nc\"\n",
    "\n",
    "pmm = dirwork+pinit\n",
    "mm = nc4.Dataset(pmm)\n",
    "\n",
    "data = mm.variables['presalt'] \n",
    "nT,nK,nJ,nI = np.shape(data)"
   ]
  },
  {
   "cell_type": "code",
   "execution_count": 7,
   "id": "f9c7f914",
   "metadata": {},
   "outputs": [],
   "source": [
    "datap = np.copy(data)\n",
    "maskp = np.ma.getmask(data[0])\n",
    "for i in range(nI):\n",
    "    for j in range(nJ):\n",
    "        kk0 = np.sum(maskp[:,j,i]==0)-1\n",
    "        if kk0>=0:                               # must be defined at least first cell\n",
    "            profile = datap[:,kk0,j,i] # nT valeurs de fond\n",
    "            datap[:,kk0:-1,j,i] =  np.repeat(profile[:,np.newaxis],(nK-1)-kk0,axis=1) # (-1) keep bottom cell closed\n",
    "            maskp[kk0:-1,j,i] = False\n",
    "#maskp = np.repeat(mask[np.newaxis,:,:,:],nT,axis=0)"
   ]
  },
  {
   "cell_type": "code",
   "execution_count": 8,
   "id": "fcabb462",
   "metadata": {},
   "outputs": [
    {
     "name": "stdout",
     "output_type": "stream",
     "text": [
      "written : penalised_domain/woce_salt_monthly_init_4p2_extrapol.nc\n"
     ]
    }
   ],
   "source": [
    "#psave = \"penalised_domain/test.nc\"\n",
    "psave = \"penalised_domain/woce_salt_monthly_init_4p2_extrapol.nc\"\n",
    "\n",
    "ds=xr.open_dataset(pmm)\n",
    "\n",
    "for t in range(nT):\n",
    "    ds.presalt[t]=np.ma.masked_array(datap[t], mask = maskp , dtype='float64')\n",
    "\n",
    "ds.to_netcdf(psave) # rewrite to netcd\n",
    "ds.close()\n",
    "print(\"written : %s\" % (psave))"
   ]
  },
  {
   "cell_type": "markdown",
   "id": "3c012c24",
   "metadata": {},
   "source": [
    "---\n",
    "# Init Temperature"
   ]
  },
  {
   "cell_type": "code",
   "execution_count": 9,
   "id": "31d371c6",
   "metadata": {},
   "outputs": [],
   "source": [
    "dirwork = \"/gpfswork/rech/omr/ukd13rj/AWOCE_INIT/\"\n",
    "pinit = \"woce_temp_monthly_init_4p2.nc\"\n",
    "\n",
    "pmm = dirwork+pinit\n",
    "mm = nc4.Dataset(pmm)\n",
    "\n",
    "data = mm.variables['contemp'] \n",
    "nT,nK,nJ,nI = np.shape(data)"
   ]
  },
  {
   "cell_type": "code",
   "execution_count": 10,
   "id": "49b3e145",
   "metadata": {},
   "outputs": [],
   "source": [
    "datap = np.copy(data)\n",
    "maskp = np.ma.getmask(data[0])\n",
    "for i in range(nI):\n",
    "    for j in range(nJ):\n",
    "        kk0 = np.sum(maskp[:,j,i]==0)-1\n",
    "        if kk0>=0:                               # must be defined at least first cell\n",
    "            profile = datap[:,kk0,j,i] # nT valeurs de fond\n",
    "            datap[:,kk0:-1,j,i] =  np.repeat(profile[:,np.newaxis],(nK-1)-kk0,axis=1) # (-1) keep bottom cell closed\n",
    "            maskp[kk0:-1,j,i] = False\n",
    "#maskp = np.repeat(mask[np.newaxis,:,:,:],nT,axis=0)"
   ]
  },
  {
   "cell_type": "code",
   "execution_count": 11,
   "id": "2b105286",
   "metadata": {},
   "outputs": [
    {
     "name": "stdout",
     "output_type": "stream",
     "text": [
      "written : penalised_domain/eORCA1.4.woce_temp_monthly_init_4p2_extrapol.nc\n"
     ]
    }
   ],
   "source": [
    "#psave = \"penalised_domain/test.nc\"\n",
    "psave = \"penalised_domain/woce_temp_monthly_init_4p2_extrapol.nc\"\n",
    "\n",
    "ds=xr.open_dataset(pmm)\n",
    "\n",
    "for t in range(nT):\n",
    "    ds.contemp[t]=np.ma.masked_array(datap[t], mask = maskp , dtype='float64')\n",
    "\n",
    "ds.to_netcdf(psave) # rewrite to netcd\n",
    "ds.close()\n",
    "print(\"written : %s\" % (psave))"
   ]
  },
  {
   "cell_type": "code",
   "execution_count": null,
   "id": "576d4388",
   "metadata": {},
   "outputs": [],
   "source": []
  }
 ],
 "metadata": {
  "kernelspec": {
   "display_name": "Python 3",
   "language": "python",
   "name": "python3"
  },
  "language_info": {
   "codemirror_mode": {
    "name": "ipython",
    "version": 3
   },
   "file_extension": ".py",
   "mimetype": "text/x-python",
   "name": "python",
   "nbconvert_exporter": "python",
   "pygments_lexer": "ipython3",
   "version": "3.8.8"
  }
 },
 "nbformat": 4,
 "nbformat_minor": 5
}
