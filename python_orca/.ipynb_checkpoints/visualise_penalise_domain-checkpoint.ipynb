{
 "cells": [
  {
   "cell_type": "code",
   "execution_count": null,
   "id": "ce5c3294",
   "metadata": {},
   "outputs": [],
   "source": [
    "import numpy as np\n",
    "import matplotlib as mpl\n",
    "import matplotlib.pyplot as plt\n",
    "from matplotlib.ticker import AutoMinorLocator\n",
    "import netCDF4 as nc4\n",
    "\n",
    "from scipy import interpolate"
   ]
  },
  {
   "cell_type": "code",
   "execution_count": null,
   "id": "8a38167d",
   "metadata": {},
   "outputs": [],
   "source": [
    "pmm = \"netcdf_files/eORCA1.4.2_ModifStraits_domain_cfg.nc\"\n",
    "\n",
    "mm = nc4.Dataset(pmm)\n",
    "\n",
    "glamt = mm.variables['glamt'][0] ; e1t = mm.variables['e1t'][0]\n",
    "gphit = mm.variables['gphit'][0] ; e2t = mm.variables['e2t'][0] \n",
    "# U-V facets\n",
    "e3t_1d = mm.variables['e3t_1d'][0] ; e3t_0 = mm.variables['e3t_0'][0] ; e3u_0 = mm.variables['e3u_0'][0]; e3v_0 = mm.variables['e3v_0'][0]\n",
    "# partial cells\n",
    "e3w_0 = mm.variables['e3w_0'][0] ; e3uw_0 = mm.variables['e3uw_0'][0] ; e3vw_0 = mm.variables['e3vw_0'][0]\n",
    "e3w_1d = mm.variables['e3w_1d'][0]\n",
    "#\n",
    "botl = mm.variables['bottom_level'][0]  # goes from 0 to 74 (75 levels)\n",
    "bath = mm.variables['bathy_meter'][0]   # goes from 0 to 74 (75 levels)\n",
    "nK,nJ,nI = np.shape(e3w_0)\n",
    "\n",
    "zdep = np.cumsum(e3t_1d) # 75 niveau w(k) pour cellule T(k-1)\n",
    "\n",
    "mm.close()\n",
    "\n",
    "with open('rpot.npy', 'rb') as f:\n",
    "    rpot = np.load(f,allow_pickle=True)\n",
    "print(\"saved\")"
   ]
  },
  {
   "cell_type": "code",
   "execution_count": null,
   "id": "4edbd2c7",
   "metadata": {},
   "outputs": [],
   "source": [
    "# https://mpl-point-clicker.readthedocs.io/en/latest/\n",
    "palette = plt.get_cmap(\"terrain_r\",75)\n",
    "%matplotlib inline\n",
    "fig, ax = plt.subplots(figsize=(9,9))\n",
    "cf = plt.imshow(botl, cmap=palette)\n",
    "fig.colorbar(cf,orientation=\"horizontal\")\n",
    "ax.set_aspect(aspect='equal')\n",
    "\n",
    "try : \n",
    "    with open('protected_cells_230113.npy', 'rb') as f:\n",
    "        protected_nodes = np.load(f)\n",
    "except :\n",
    "    print(\"list not found\")\n",
    "plt.scatter(protected_nodes[:,0],protected_nodes[:,1],color=\"k\", s=2)\n",
    "# add zooming and middle click to pan\n",
    "ax.invert_yaxis()\n",
    "ax.patch.set_color('0.7')\n",
    "\n",
    "\n",
    "plt.show()"
   ]
  },
  {
   "cell_type": "code",
   "execution_count": null,
   "id": "c219eead",
   "metadata": {},
   "outputs": [],
   "source": [
    "Ht = np.zeros((nJ,nI))\n",
    "for i in range(nI):\n",
    "    for j in range(nJ):\n",
    "        Ht[j,i] = np.sum(rpot[:,j,i]*e3t_1d[:])"
   ]
  },
  {
   "cell_type": "code",
   "execution_count": null,
   "id": "047b4678",
   "metadata": {},
   "outputs": [],
   "source": [
    "plt.figure(figsize=(10,10))\n",
    "\n",
    "visu_palette = plt.get_cmap('terrain_r',75)\n",
    "ax = plt.axes()\n",
    "im = ax.imshow(Ht,cmap = visu_palette)\n",
    "\n",
    "ah = np.unravel_index(np.argmax(Ht/bath), Ht.shape)\n",
    "#plt.scatter(ah[0],ah[1],c=\"red\")\n",
    "\n",
    "ax.invert_yaxis()\n",
    "fig.colorbar(im,ax=ax, location='bottom')\n",
    "\n"
   ]
  }
 ],
 "metadata": {
  "kernelspec": {
   "display_name": "Python 3",
   "language": "python",
   "name": "python3"
  },
  "language_info": {
   "codemirror_mode": {
    "name": "ipython",
    "version": 3
   },
   "file_extension": ".py",
   "mimetype": "text/x-python",
   "name": "python",
   "nbconvert_exporter": "python",
   "pygments_lexer": "ipython3",
   "version": "3.8.8"
  }
 },
 "nbformat": 4,
 "nbformat_minor": 5
}
