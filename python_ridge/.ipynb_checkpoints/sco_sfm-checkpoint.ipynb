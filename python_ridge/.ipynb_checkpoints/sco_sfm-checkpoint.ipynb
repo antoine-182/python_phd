{
 "cells": [
  {
   "cell_type": "code",
   "execution_count": 2,
   "id": "3eceaec1",
   "metadata": {},
   "outputs": [],
   "source": [
    "# -*- coding: utf-8 -*-\n",
    "\n",
    "import netCDF4 as nc4\n",
    "import numpy as np\n",
    "import time, sys, os\n",
    "\n",
    "# one way to do\n",
    "# sys.path.append(os.path.abspath('vacumm-3.4.0/'))\n",
    "\n",
    "import matplotlib as mpl\n",
    "import matplotlib.pyplot as plt\n",
    "from matplotlib.ticker import (MultipleLocator, FormatStrFormatter,\n",
    "                               AutoMinorLocator, FixedLocator, FixedFormatter,\n",
    "                               NullLocator)\n",
    "import matplotlib.gridspec as gridspec\n",
    "\n",
    "import matplotlib.animation as animation\n",
    "# from pylab import *\n",
    "# import cmocean\n",
    "\n",
    "\n",
    "\"\"\" *****************************************************************\n",
    "\"\"\"\n",
    "\n",
    "dir = \"/gpfswork/rech/omr/ukd13rj/nemo/dev_14237_KERNEL-01_IMMERSE_SEAMOUNT/tests/ridge/EXP_s_ref15_ubs\"\n",
    "dirm = \"/gpfswork/rech/omr/ukd13rj/nemo/dev_14237_KERNEL-01_IMMERSE_SEAMOUNT/tests/ridge/EXP_s_ref15_ubs\"\n",
    "\n",
    "# dir = \"/Users/gm/Documents/nemo/dev_14237_KERNEL-01_IMMERSE_SEAMOUNT/tests/ridge/EXP_bvp\"\n",
    "# dirm = \"/Users/gm/Documents/nemo/dev_14237_KERNEL-01_IMMERSE_SEAMOUNT/tests/ridge/EXP_bvp\"\n",
    "\n",
    "\n",
    "timeframe = \"2h\"\n",
    "pdt = \"/RIDGE_sco_1_%s_grid_T.nc\" % (timeframe)\n",
    "pdu = \"/RIDGE_sco_1_%s_grid_U.nc\" % (timeframe)\n",
    "pdv = \"/RIDGE_sco_1_%s_grid_V.nc\" % (timeframe)\n",
    "pdw = \"/RIDGE_sco_1_%s_grid_W.nc\" % (timeframe)\n",
    "# pdw = \"/RIDGE_ref_1_12h_grid_W.nc\"\n",
    "pmm = \"/mesh_mask.nc\"\n",
    "\n",
    "save = 0 ; psave = \"scosfm15\" ; film = 0\n",
    "\n",
    "tskip=100 ; fps = 2\n"
   ]
  },
  {
   "cell_type": "code",
   "execution_count": 3,
   "id": "d502bd79",
   "metadata": {},
   "outputs": [],
   "source": [
    "dtu = nc4.Dataset(dir+pdu)\n",
    "mm = nc4.Dataset(dirm+pmm)\n",
    "\n",
    "uu   = dtu.variables['u_vol'][::tskip,:,:,:]   # volumic transport\n",
    "# toce = dt.variables['toce'] [::tskip,:,:,:]\n",
    "nT,nK,nY,nX = np.shape(uu)"
   ]
  },
  {
   "cell_type": "code",
   "execution_count": 6,
   "id": "9898c2f1",
   "metadata": {},
   "outputs": [
    {
     "name": "stdout",
     "output_type": "stream",
     "text": [
      "domain size is (x,y) 315x135 with 56 k-levels\n"
     ]
    }
   ],
   "source": [
    "tmask = mm.variables['tmask'][0][:,:,:]\n",
    "glamt = mm.variables['glamt'][0] ; gphit = mm.variables['gphit'][0]\n",
    "glamu = mm.variables['glamu'][0]\n",
    "umask = mm.variables['umask'][0] ; vmask = mm.variables['vmask'][0]\n",
    "gdept = mm.variables['gdept_0'][0] ; gdepw = mm.variables['gdepw_0'][0]\n",
    "e3w = mm.variables['e3w_0'][0]\n",
    "mbathy= mm.variables['mbathy'][0,:,:]\n",
    "\n",
    "print(\"domain size is (x,y) %dx%d with %d k-levels\" % (nX,nY,nK))\n",
    "midY = nY//2# np.where(np.abs(gphit[:,0])<=1E3)[0][0]\n",
    "# attention en BVP le milieu est un V point\n",
    "midX = np.where(np.abs(glamt[0,:])<=1E3)[0][0]"
   ]
  },
  {
   "cell_type": "markdown",
   "id": "c374c18b",
   "metadata": {},
   "source": [
    "### SFM against k levels (k,x)"
   ]
  },
  {
   "cell_type": "code",
   "execution_count": 7,
   "id": "23cb9bd9",
   "metadata": {},
   "outputs": [
    {
     "name": "stderr",
     "output_type": "stream",
     "text": [
      "<ipython-input-7-cdadec4f6c60>:11: UserWarning: Warning: converting a masked element to nan.\n",
      "  sfm[t,k,i] += - np.sum(uum[k:,:,i])/1E6\n"
     ]
    },
    {
     "name": "stdout",
     "output_type": "stream",
     "text": [
      "Elapsed time 6.8\n"
     ]
    }
   ],
   "source": [
    "### SFM against k levels (k,x)\n",
    "\n",
    "t0 = time.time()\n",
    "sfm = np.zeros((nT,nK,nX-1))\n",
    "\"\"\" streamfunction \"\"\"\n",
    "for t in range(nT):\n",
    "    uum  = np.ma.masked_where(umask==0,uu[t])\n",
    "    for i in range(nX-1):\n",
    "        for k in range(nK):\n",
    "            # k=0 surface - k=nK-1 last dot (masked)\n",
    "            # there are as many u than psi\n",
    "            sfm[t,k,i] += - np.sum(uum[k:,:,i])/1E6\n",
    "sfm = np.ma.array(sfm)\n",
    "t1 = time.time()\n",
    "print(\"Elapsed time %.1f\" % (t1-t0))"
   ]
  },
  {
   "cell_type": "code",
   "execution_count": 10,
   "id": "15dfd8ff",
   "metadata": {},
   "outputs": [
    {
     "data": {
      "text/plain": [
       "<function matplotlib.pyplot.show(close=None, block=None)>"
      ]
     },
     "execution_count": 10,
     "metadata": {},
     "output_type": "execute_result"
    },
    {
     "data": {
      "image/png": "[encoded data removed]",
      "text/plain": [
       "<Figure size 432x288 with 2 Axes>"
      ]
     },
     "metadata": {
      "needs_background": "light"
     },
     "output_type": "display_data"
    }
   ],
   "source": [
    "plt.imshow(sfm[-1],vmin=-2,vmax=2,cmap=plt.get_cmap('RdBu_r'))\n",
    "plt.colorbar()\n",
    "plt.show"
   ]
  },
  {
   "cell_type": "markdown",
   "id": "ec23e3ff",
   "metadata": {},
   "source": [
    "### Remapping $k$ to $z_n$"
   ]
  },
  {
   "cell_type": "code",
   "execution_count": 25,
   "id": "bc4c6ed1",
   "metadata": {},
   "outputs": [
    {
     "name": "stdout",
     "output_type": "stream",
     "text": [
      "Equivalent Lenght Lx = 2086.7 km\n",
      "Equivalent Lenght Ly = 886.7 km\n",
      "(56, 135, 315)\n"
     ]
    }
   ],
   "source": [
    "e2t = mm.variables['e2t'][0]\n",
    "Lx = np.sum(e2t[midY,:]*tmask[0,midY,:])\n",
    "print(\"Equivalent Lenght Lx = %.1f km\" % (Lx/1E3))\n",
    "Ly = np.sum(e2t[:,midX]*tmask[0,:,midX])\n",
    "print(\"Equivalent Lenght Ly = %.1f km\" % (Ly/1E3))\n",
    "\n",
    "e3t = mm.variables['e3t_0'][0] ; e1t = mm.variables['e1t'][0] ; e2t = mm.variables['e2t'][0]\n",
    "print(np.shape(e3t))\n",
    "zn = np.zeros((nK,))\n",
    "for kk in range(nK):\n",
    "    zn[kk] = np.sum(e3t[kk,:,:]*e1t[:,:]*e2t[:,:])/(Lx*Ly)\n",
    "newgdepw     = np.zeros((nK+1,))\n",
    "newgdepw[1:] = np.cumsum(zn)\n",
    "print(newgdepw)"
   ]
  },
  {
   "cell_type": "code",
   "execution_count": 2,
   "id": "35d843a3",
   "metadata": {},
   "outputs": [
    {
     "name": "stdout",
     "output_type": "stream",
     "text": [
      "domain size is (x,y) 315x135 with 56 k-levels\n",
      "\u001b[1000Dprocessing psi [  1/140]"
     ]
    },
    {
     "name": "stderr",
     "output_type": "stream",
     "text": [
      "<ipython-input-2-00b4e2f408b0>:64: UserWarning: Warning: converting a masked element to nan.\n",
      "  sfm[t,k,i] += - np.sum(uum[k:,:,i])/1E6\n"
     ]
    },
    {
     "name": "stdout",
     "output_type": "stream",
     "text": [
      "\u001b[1000Dprocessing psi [  2/140]\u001b[1000Dprocessing psi [  3/140]\u001b[1000Dprocessing psi [  4/140]\u001b[1000Dprocessing psi [  5/140]\u001b[1000Dprocessing psi [  6/140]\u001b[1000Dprocessing psi [  7/140]\u001b[1000Dprocessing psi [  8/140]\u001b[1000Dprocessing psi [  9/140]\u001b[1000Dprocessing psi [ 10/140]\u001b[1000Dprocessing psi [ 11/140]\u001b[1000Dprocessing psi [ 12/140]\u001b[1000Dprocessing psi [ 13/140]\u001b[1000Dprocessing psi [ 14/140]\u001b[1000Dprocessing psi [ 15/140]\u001b[1000Dprocessing psi [ 16/140]\u001b[1000Dprocessing psi [ 17/140]\u001b[1000Dprocessing psi [ 18/140]\u001b[1000Dprocessing psi [ 19/140]\u001b[1000Dprocessing psi [ 20/140]\u001b[1000Dprocessing psi [ 21/140]\u001b[1000Dprocessing psi [ 22/140]\u001b[1000Dprocessing psi [ 23/140]\u001b[1000Dprocessing psi [ 24/140]\u001b[1000Dprocessing psi [ 25/140]\u001b[1000Dprocessing psi [ 26/140]\u001b[1000Dprocessing psi [ 27/140]\u001b[1000Dprocessing psi [ 28/140]\u001b[1000Dprocessing psi [ 29/140]\u001b[1000Dprocessing psi [ 30/140]\u001b[1000Dprocessing psi [ 31/140]\u001b[1000Dprocessing psi [ 32/140]\u001b[1000Dprocessing psi [ 33/140]\u001b[1000Dprocessing psi [ 34/140]\u001b[1000Dprocessing psi [ 35/140]\u001b[1000Dprocessing psi [ 36/140]\u001b[1000Dprocessing psi [ 37/140]\u001b[1000Dprocessing psi [ 38/140]\u001b[1000Dprocessing psi [ 39/140]\u001b[1000Dprocessing psi [ 40/140]\u001b[1000Dprocessing psi [ 41/140]\u001b[1000Dprocessing psi [ 42/140]\u001b[1000Dprocessing psi [ 43/140]\u001b[1000Dprocessing psi [ 44/140]\u001b[1000Dprocessing psi [ 45/140]\u001b[1000Dprocessing psi [ 46/140]\u001b[1000Dprocessing psi [ 47/140]\u001b[1000Dprocessing psi [ 48/140]\u001b[1000Dprocessing psi [ 49/140]\u001b[1000Dprocessing psi [ 50/140]\u001b[1000Dprocessing psi [ 51/140]\u001b[1000Dprocessing psi [ 52/140]\u001b[1000Dprocessing psi [ 53/140]\u001b[1000Dprocessing psi [ 54/140]\u001b[1000Dprocessing psi [ 55/140]\u001b[1000Dprocessing psi [ 56/140]\u001b[1000Dprocessing psi [ 57/140]\u001b[1000Dprocessing psi [ 58/140]\u001b[1000Dprocessing psi [ 59/140]\u001b[1000Dprocessing psi [ 60/140]\u001b[1000Dprocessing psi [ 61/140]\u001b[1000Dprocessing psi [ 62/140]\u001b[1000Dprocessing psi [ 63/140]\u001b[1000Dprocessing psi [ 64/140]\u001b[1000Dprocessing psi [ 65/140]\u001b[1000Dprocessing psi [ 66/140]\u001b[1000Dprocessing psi [ 67/140]\u001b[1000Dprocessing psi [ 68/140]\u001b[1000Dprocessing psi [ 69/140]\u001b[1000Dprocessing psi [ 70/140]\u001b[1000Dprocessing psi [ 71/140]\u001b[1000Dprocessing psi [ 72/140]\u001b[1000Dprocessing psi [ 73/140]\u001b[1000Dprocessing psi [ 74/140]\u001b[1000Dprocessing psi [ 75/140]\u001b[1000Dprocessing psi [ 76/140]\u001b[1000Dprocessing psi [ 77/140]\u001b[1000Dprocessing psi [ 78/140]\u001b[1000Dprocessing psi [ 79/140]\u001b[1000Dprocessing psi [ 80/140]\u001b[1000Dprocessing psi [ 81/140]\u001b[1000Dprocessing psi [ 82/140]\u001b[1000Dprocessing psi [ 83/140]\u001b[1000Dprocessing psi [ 84/140]\u001b[1000Dprocessing psi [ 85/140]\u001b[1000Dprocessing psi [ 86/140]\u001b[1000Dprocessing psi [ 87/140]\u001b[1000Dprocessing psi [ 88/140]\u001b[1000Dprocessing psi [ 89/140]\u001b[1000Dprocessing psi [ 90/140]\u001b[1000Dprocessing psi [ 91/140]\u001b[1000Dprocessing psi [ 92/140]\u001b[1000Dprocessing psi [ 93/140]\u001b[1000Dprocessing psi [ 94/140]\u001b[1000Dprocessing psi [ 95/140]\u001b[1000Dprocessing psi [ 96/140]\u001b[1000Dprocessing psi [ 97/140]\u001b[1000Dprocessing psi [ 98/140]\u001b[1000Dprocessing psi [ 99/140]\u001b[1000Dprocessing psi [100/140]\u001b[1000Dprocessing psi [101/140]\u001b[1000Dprocessing psi [102/140]\u001b[1000Dprocessing psi [103/140]\u001b[1000Dprocessing psi [104/140]\u001b[1000Dprocessing psi [105/140]\u001b[1000Dprocessing psi [106/140]\u001b[1000Dprocessing psi [107/140]\u001b[1000Dprocessing psi [108/140]\u001b[1000Dprocessing psi [109/140]\u001b[1000Dprocessing psi [110/140]\u001b[1000Dprocessing psi [111/140]\u001b[1000Dprocessing psi [112/140]\u001b[1000Dprocessing psi [113/140]\u001b[1000Dprocessing psi [114/140]\u001b[1000Dprocessing psi [115/140]\u001b[1000Dprocessing psi [116/140]\u001b[1000Dprocessing psi [117/140]\u001b[1000Dprocessing psi [118/140]\u001b[1000Dprocessing psi [119/140]\u001b[1000Dprocessing psi [120/140]\u001b[1000Dprocessing psi [121/140]\u001b[1000Dprocessing psi [122/140]\u001b[1000Dprocessing psi [123/140]\u001b[1000Dprocessing psi [124/140]\u001b[1000Dprocessing psi [125/140]\u001b[1000Dprocessing psi [126/140]\u001b[1000Dprocessing psi [127/140]\u001b[1000Dprocessing psi [128/140]\u001b[1000Dprocessing psi [129/140]\u001b[1000Dprocessing psi [130/140]\u001b[1000Dprocessing psi [131/140]\u001b[1000Dprocessing psi [132/140]\u001b[1000Dprocessing psi [133/140]\u001b[1000Dprocessing psi [134/140]\u001b[1000Dprocessing psi [135/140]\u001b[1000Dprocessing psi [136/140]\u001b[1000Dprocessing psi [137/140]\u001b[1000Dprocessing psi [138/140]\u001b[1000Dprocessing psi [139/140]\u001b[1000Dprocessing psi [140/140]\n",
      "saving : sfm15\n"
     ]
    }
   ],
   "source": [
    "\n",
    "########################################################\n",
    "vmin = -2. ; vmax = 2. \n",
    "#tskip=3 ; fps = 4\n",
    "\n",
    "Ncolor=8\n",
    "dv=(vmax-vmin)/Ncolor\n",
    "\n",
    "dtu = nc4.Dataset(dir+pdu)\n",
    "dt  = nc4.Dataset(dir+pdt)\n",
    "mm = nc4.Dataset(dirm+pmm)\n",
    "\n",
    "uu   = dtu.variables['u_vol'][::tskip,:,:,:]   # volumic transport\n",
    "# toce = dt.variables['toce'] [::tskip,:,:,:]\n",
    "nT,nK,nY,nX = np.shape(uu)\n",
    "# nT=1\n",
    "\n",
    "tmask = mm.variables['tmask'][0][:,:,:]\n",
    "glamt = mm.variables['glamt'][0] ; gphit = mm.variables['gphit'][0]\n",
    "glamu = mm.variables['glamu'][0]\n",
    "umask = mm.variables['umask'][0] ; vmask = mm.variables['vmask'][0]\n",
    "gdept = mm.variables['gdept_0'][0] ; gdepw = mm.variables['gdepw_0'][0]\n",
    "e3w = mm.variables['e3w_0'][0]\n",
    "mbathy= mm.variables['mbathy'][0,:,:]\n",
    "\n",
    "print(\"domain size is (x,y) %dx%d with %d k-levels\" % (nX,nY,nK))\n",
    "midY = nY//2# np.where(np.abs(gphit[:,0])<=1E3)[0][0]\n",
    "# attention en BVP le milieu est un V point\n",
    "midX = np.where(np.abs(glamt[0,:])<=1E3)[0][0]\n",
    "\n",
    "#######################################################\n",
    "# streamfunction are UW points\n",
    "yw = np.copy(gdepw[:,midY,:-1])\n",
    "for i in range(nX-1):\n",
    "    yw[:,i]=0.5*( gdepw[:,midY,i] + gdepw[:,midY,i+1] )\n",
    "xu = yw*0.\n",
    "for k in range(nK):\n",
    "    xu[k,:]=glamu[midY,:-1]/1E3\n",
    "\n",
    "# ... surrounded by T points\n",
    "dz = np.copy(e3w[0,midY,:])\n",
    "yt = np.zeros((nK+1,nX))\n",
    "yt[0,:] = 0. ; yt[1:,:] = gdept[:,midY,:]\n",
    "xt = yt*0. ; x1t = glamt[  midY,:]/1E3\n",
    "for k in range(nK+1):\n",
    "    xt[k,:]=x1t\n",
    "\n",
    "########################################################\n",
    "sfm = np.zeros((nT,nK,nX-1))\n",
    "\"\"\" streamfunction \"\"\"\n",
    "for t in range(nT):\n",
    "    sys.stdout.write(u\"\\u001b[1000D\" + \"processing psi [%3d/%3d]\" % (t+1,nT))\n",
    "    sys.stdout.flush()\n",
    "    uum  = np.ma.masked_where(umask==0,uu[t])\n",
    "    for i in range(nX-1):\n",
    "        for k in range(nK):\n",
    "            # k=0 surface - k=nK-1 last dot (masked)\n",
    "            # there are as many u than psi\n",
    "            sfm[t,k,i] += - np.sum(uum[k:,:,i])/1E6\n",
    "sfm = np.ma.array(sfm)\n",
    "########################################################\n",
    "# to have a look at the meshmask\n",
    "# first bottom cell (masked - task[mbathy,:,:]-> 0)\n",
    "zht = mbathy*0.\n",
    "for ii in range(nX):\n",
    "    for jj in range(nY):\n",
    "        kk = mbathy[jj,ii]\n",
    "        zht[jj,ii] = gdepw[kk,jj,ii]\n",
    "\n",
    "########################################################\n",
    "\n",
    "\n",
    "titlezer  = \"Streamfunction\"\n",
    "palette = plt.get_cmap('RdBu_r',Ncolor)\n",
    "optpcolor = {\"vmin\":vmin, \"vmax\":vmax, \"cmap\" : palette}\n",
    "opthatch = {'facecolor':'grey', 'alpha' : 0.5, 'interpolate':True, 'step' : 'mid'}\n",
    "levelsc = np.linspace(vmin,vmax, Ncolor+1)\n",
    "optcontour = {'levels' : levelsc, 'colors':'black', 'linestyles' : \"solid\"}\n",
    "\n",
    "fig, ax = plt.subplots(figsize=(10,6),dpi=200)\n",
    "\n",
    "c  = ax.contour(xu,yw,sfm[0], **optcontour)\n",
    "cf = ax.pcolormesh(xt, yt, sfm[0],**optpcolor)\n",
    "\n",
    "cbar = plt.colorbar(cf)\n",
    "cbar.set_label(r\"Zonal streamfunction $\\psi$ (Sv)\")\n",
    "# ax.fill_between(xu[0,:], strait(xw[0,:]), ridge(xw[0,:]),**opthatch)\n",
    "# ... we would expect UW points to be the bottom of the basin\n",
    "ax.fill_between(glamt[0,:]/1E3, zht[0,:], zht[midY,:], **opthatch)\n",
    "\n",
    "if timeframe==\"12h\" :\n",
    "    titlezer = '%02dd/%02dd \\n'%((0.)*tskip/2.,nT*tskip/2.) # because 12h sortie\n",
    "elif timeframe==\"2h\":\n",
    "    titlezer = '%02dh/%02dh (%02dd/%02dd) \\n'%((0.)*tskip*2.,nT*tskip*2.,(0.)*tskip/12.,nT*tskip/12.) # because 2h sortie\n",
    "titlezer += \"\\nmin = %1.1f Sv   max = %1.1f Sv\" % (np.nanmin(sfm[0]), np.nanmax(sfm[0]))\n",
    "ax.set_title(titlezer, fontsize = 12, y = 1.02)\n",
    "\n",
    "ax.set_ylim(5500,0)\n",
    "ax.set_yticks([0,1000,2000,3000,4000,5000])\n",
    "# ax.set_yticks([0,1000,2000,3000,4000,5000])\n",
    "ax.set_ylabel(\"Z (m)\")\n",
    "\n",
    "ax.set_xlim(-1000,1000)\n",
    "ax.set_xlabel(\"X (km)\")\n",
    "\n",
    "ax.xaxis.set_major_locator(MultipleLocator(500))\n",
    "ax.xaxis.set_minor_locator(MultipleLocator(100))\n",
    "ax.yaxis.set_minor_locator(MultipleLocator(250))\n",
    "ax.tick_params(axis = \"y\", which = 'both', width=1., labelsize = 10, pad = 5)\n",
    "ax.tick_params(axis = 'x', which = 'both', width=1., labelsize = 10, pad = 10)\n",
    "ax.tick_params(which='minor',length = 4)\n",
    "ax.tick_params(which='major',length = 6)\n",
    "plt.tight_layout()\n",
    "\n",
    "def animate(i):\n",
    "    \"\"\"Set the data for the ith iteration of the animation.\"\"\"\n",
    "    global c,cf, sfm\n",
    "\n",
    "    ax.collections = []\n",
    "    c = ax.contour(xu,yw,sfm[i], **optcontour)\n",
    "    cf = ax.pcolormesh(xt, yt, sfm[i], **optpcolor)\n",
    "    #\n",
    "    ax.fill_between(glamt[0,:]/1E3, zht[0,:], zht[midY,:], **opthatch)\n",
    "    #\n",
    "    if timeframe==\"12h\" :\n",
    "        ptitle = '%02dd/%02dd \\n'%((i)*tskip/2.,(nT-1)*tskip/2.) # because 12h sortie\n",
    "    elif timeframe==\"2h\":\n",
    "        ptitle = '%02dh/%02dh (%02dd/%02dd) \\n'%((i)*tskip*2.,(nT-1)*tskip*2.,(i)*tskip/12.,(nT-1)*tskip/12.) # because 2h sortie\n",
    "    ptitle += \"min = %2.2f Sv   max = %2.2f Sv   \" % (np.nanmin(sfm[i]), np.nanmax(sfm[i]))\n",
    "    #sys.stdout.write(u\"\\u001b[1000D\" + \"processing movie [%3d/%3d]\" % (i+1,nT))\n",
    "    #sys.stdout.flush()\n",
    "    ax.set_title(ptitle, fontsize = 12, y = 1.02)\n",
    "    #\n",
    "    return c, cf\n",
    "\n",
    "if save:\n",
    "    anim = animation.FuncAnimation(fig, animate, frames=nT, blit=False, repeat=False)\n",
    "    writer = animation.writers['ffmpeg'](fps=fps)\n",
    "    anim.save('%s.mp4' % (psave), writer=writer, dpi=200)\n",
    "    plt.close(\"all\")\n",
    "    print(\"\\nsaving : %s\" % psave)\n",
    "else:\n",
    "    anim = animation.FuncAnimation(fig, animate, frames=nT)\n",
    "    plt.show()\n"
   ]
  },
  {
   "cell_type": "code",
   "execution_count": null,
   "id": "fe95dbc5",
   "metadata": {},
   "outputs": [],
   "source": []
  }
 ],
 "metadata": {
  "kernelspec": {
   "display_name": "Python 3",
   "language": "python",
   "name": "python3"
  },
  "language_info": {
   "codemirror_mode": {
    "name": "ipython",
    "version": 3
   },
   "file_extension": ".py",
   "mimetype": "text/x-python",
   "name": "python",
   "nbconvert_exporter": "python",
   "pygments_lexer": "ipython3",
   "version": "3.8.8"
  }
 },
 "nbformat": 4,
 "nbformat_minor": 5
}
